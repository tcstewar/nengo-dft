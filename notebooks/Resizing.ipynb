{
 "cells": [
  {
   "cell_type": "code",
   "execution_count": 1,
   "metadata": {},
   "outputs": [],
   "source": [
    "%matplotlib inline\n",
    "import matplotlib.pyplot as plt\n",
    "import nengo\n",
    "import numpy as np"
   ]
  },
  {
   "cell_type": "code",
   "execution_count": 14,
   "metadata": {},
   "outputs": [],
   "source": [
    "def reduce(inp, dimension_mapping, compression_type):\n",
    "    ''' Reduces an input along one or more dimensions by computing the \n",
    "        maximum or sum along these dimensions. \n",
    "\n",
    "        Parameters\n",
    "        ----------\n",
    "        inp : array_like\n",
    "            input whose dimensions should be reduced\n",
    "        dimension_mapping : dict\n",
    "            Maps input dimensions to output dimensions. If a dimension is\n",
    "            mapped to False it should be removed\n",
    "        compression_type : {'max', 'sum'}\n",
    "            Type of compression that should be used for the dimensions \n",
    "            that are removed\n",
    "\n",
    "        Returns\n",
    "        -------\n",
    "        array_like\n",
    "            Reduced input\n",
    "\n",
    "        Notes\n",
    "        -----\n",
    "        Implemented for the Projection class.\n",
    "    '''\n",
    "    # get axis/axes to reduce\n",
    "    axis_reduce = tuple([int(key) for key in dimension_mapping if type(dimension_mapping[key]) == bool])\n",
    "    # reduce inp by using sum or max\n",
    "    if compression_type == 'sum':\n",
    "        out = np.sum(inp, axis=axis_reduce)\n",
    "    elif compression_type == 'max':\n",
    "        out = inp.max(axis=axis_reduce)\n",
    "    \n",
    "    # transpose array st order of dimensions is as given in dimension mapping\n",
    "    dim_order = [int(value) for value in dimension_mapping.values() if type(value) == int]\n",
    "    # print(dim_order, dimension_mapping)\n",
    "    out = out.transpose(*dim_order)\n",
    "    \n",
    "    return out\n",
    "\n",
    "def add_dimensions(inp, dimension_mapping, out_sizes):\n",
    "    ''' Adds dimensions to a given input by repeating values\n",
    "        along the new dimensions.\n",
    "\n",
    "        Parameters\n",
    "        ----------\n",
    "        inp : array_like\n",
    "            Input to which dimensions should be added\n",
    "        dimension_mapping : dict\n",
    "            Maps input to output dimensions\n",
    "        out_sizes : list of ints\n",
    "            Defines the size of each output dimension. Has to be the same\n",
    "            as the size of the input dimensions for the output dimensions\n",
    "            that these are mapped to.\n",
    "\n",
    "        Returns\n",
    "        -------\n",
    "        array_like\n",
    "            Input with added dimensions\n",
    "\n",
    "        Notes\n",
    "        -----\n",
    "        Implemented for the Projection class\n",
    "    '''\n",
    "    \n",
    "    added_dims = list(np.arange(len(out_sizes)))\n",
    "    mapped_dims = [int(value) for value in dimension_mapping.values()]\n",
    "    [added_dims.remove(dim) for dim in mapped_dims]\n",
    "\n",
    "    # add dimensions\n",
    "    for dim in added_dims:\n",
    "        # add the dimension\n",
    "        inp = np.expand_dims(inp, axis=dim)\n",
    "        # repeat dimension to get right size\n",
    "        inp = np.repeat(inp, repeats=out_sizes[dim], axis=dim)\n",
    "        \n",
    "    return inp\n"
   ]
  },
  {
   "cell_type": "code",
   "execution_count": 70,
   "metadata": {},
   "outputs": [],
   "source": [
    "class Projection(object):\n",
    "    ''' Class around a nengo.Node instance that projects and input of one\n",
    "        dimensionality to another dimensionality.\n",
    "\n",
    "        The input can either be projected to a higher dimensionality by\n",
    "        repeating the value along a dimension or it can be projected to a\n",
    "        lower dimensionality by computing the sum or taking the maximum\n",
    "        along a dimension.\n",
    "\n",
    "        Parameters\n",
    "        ----------\n",
    "        sizes_out : list of ints\n",
    "            Output size of the nengo.Node per dimension\n",
    "        sizes_in : list of ints\n",
    "            Input size of the nengo.Node per dimension\n",
    "        dimension_mapping : dict\n",
    "            Dictionary that defines where each input dimension is mapped to.\n",
    "            The values can be either the index of one of the output \n",
    "            dimensions or False if the input dimension should be removed\n",
    "        compression_type : {'max', 'sum'}, optional\n",
    "            Type of compression to use when removing a dimension. The \n",
    "            value is ignored when performing an upscaling of dimensions\n",
    "        name : NoneType or str, optional\n",
    "            Name to use for the nengo.Node instance\n",
    "\n",
    "        Attributes\n",
    "        ----------\n",
    "        node : nengo.Node instance\n",
    "            Node instance that performs the projection. Only created\n",
    "            after calling method `make_node()`\n",
    "    '''\n",
    "    def __init__(self, sizes_out, sizes_in, dimension_mapping, \n",
    "                 compression_type='max', name=None):\n",
    "        self.sizes_out = sizes_out\n",
    "        self.sizes_in = sizes_in\n",
    "        self.dimension_mapping = dimension_mapping\n",
    "        self.compression_type = compression_type\n",
    "        self.name = name\n",
    "        self.index_maps = None\n",
    "        \n",
    "    def update(self, inp):\n",
    "        ''' Update method for the nengo.Node update. Performs the \n",
    "            projection computations for a given input.\n",
    "\n",
    "            Parameters\n",
    "            ----------\n",
    "            inp : array_like\n",
    "                Input of the projection\n",
    "\n",
    "            Returns\n",
    "            -------\n",
    "            array_like\n",
    "                The projected output\n",
    "        '''\n",
    "        # reshape inp\n",
    "        if self.sizes_in != []:\n",
    "            out = inp.reshape(*self.sizes_in)\n",
    "        else:\n",
    "            out = inp\n",
    "            \n",
    "        # either downsizing\n",
    "        if len(self.dimension_mapping) > len(self.sizes_out):\n",
    "            out = reduce(out, self.dimension_mapping, self.compression_type)\n",
    "            \n",
    "        # or upsizing\n",
    "        elif len(self.sizes_out) > len(self.dimension_mapping):\n",
    "            out = add_dimensions(out, self.dimension_mapping, self.sizes_out)\n",
    "            \n",
    "        if out.shape != self.sizes_out:\n",
    "            if self.index_maps is None:\n",
    "                self.index_maps = self.create_index_maps(out.shape, self.sizes_out)\n",
    "            \n",
    "            for i, m in enumerate(self.index_maps):\n",
    "                out = out[(slice(None, None, None),)*i + (m,)]\n",
    "            \n",
    "            \n",
    "        return out.flatten()\n",
    "    \n",
    "    def create_index_maps(self, size_ins, size_outs):\n",
    "        maps = []\n",
    "        for i in range(len(size_ins)):\n",
    "            maps.append(np.linspace(0, size_ins[i]-1, size_outs[i]).astype(int))\n",
    "        return maps    \n",
    "    \n",
    "               \n",
    "    def make_node(self):\n",
    "        ''' Creates a nengo.Node() instance that takes care of the \n",
    "            Projection computations. It uses the above update method for\n",
    "            its update in each time step. \n",
    "        ''' \n",
    "        if self.name is not None:\n",
    "            self.node = nengo.Node(lambda t, x: self.update(x), \n",
    "                          size_in=int(np.prod(self.sizes_in)) if self.sizes_in != [] else 1, \n",
    "                          size_out=int(np.prod(self.sizes_out)) if self.sizes_out != [] else 1,\n",
    "                          label=self.name)\n",
    "        else:\n",
    "            self.node = nengo.Node(lambda t, x: self.update(x), \n",
    "                          size_in=int(np.prod(self.sizes_in)) if self.sizes_in != [] else 1, \n",
    "                          size_out=int(np.prod(self.sizes_out)) if self.sizes_out != [] else 1)\n",
    "        return self.node\n",
    "\n"
   ]
  },
  {
   "cell_type": "code",
   "execution_count": 75,
   "metadata": {},
   "outputs": [
    {
     "data": {
      "application/vdom.v1+json": {
       "attributes": {},
       "tagName": "div"
      },
      "text/html": [
       "\n",
       "                <script>\n",
       "                    if (Jupyter.version.split(\".\")[0] < 5) {\n",
       "                        var pb = document.getElementById(\"456dfda8-7e13-48bc-913d-d89268a6738d\");\n",
       "                        var text = document.createTextNode(\n",
       "                            \"HMTL progress bar requires Jupyter Notebook >= \" +\n",
       "                            \"5.0 or Jupyter Lab. Alternatively, you can use \" +\n",
       "                            \"TerminalProgressBar().\");\n",
       "                        pb.parentNode.insertBefore(text, pb);\n",
       "                    }\n",
       "                </script>\n",
       "                <div id=\"456dfda8-7e13-48bc-913d-d89268a6738d\" style=\"\n",
       "                    width: 100%;\n",
       "                    border: 1px solid #cfcfcf;\n",
       "                    border-radius: 4px;\n",
       "                    text-align: center;\n",
       "                    position: relative;\">\n",
       "                  <div class=\"pb-text\" style=\"\n",
       "                      position: absolute;\n",
       "                      width: 100%;\">\n",
       "                    0%\n",
       "                  </div>\n",
       "                  <div class=\"pb-fill\" style=\"\n",
       "                      background-color: #bdd2e6;\n",
       "                      width: 0%;\">\n",
       "                    <style type=\"text/css\" scoped=\"scoped\">\n",
       "                        @keyframes pb-fill-anim {\n",
       "                            0% { background-position: 0 0; }\n",
       "                            100% { background-position: 100px 0; }\n",
       "                        }\n",
       "                    </style>\n",
       "                    &nbsp;\n",
       "                  </div>\n",
       "                </div>"
      ],
      "text/plain": [
       "HtmlProgressBar cannot be displayed. Please use the TerminalProgressBar. It can be enabled with `nengo.rc['progress']['progress_bar'] = 'nengo.utils.progress.TerminalProgressBar'`."
      ]
     },
     "metadata": {},
     "output_type": "display_data"
    },
    {
     "data": {
      "application/vdom.v1+json": {
       "attributes": {
        "id": "59382347-634a-489e-90d0-0b49aaf3c679",
        "style": {
         "border": "1px solid #cfcfcf",
         "borderRadius": "4px",
         "boxSizing": "border-box",
         "position": "relative",
         "textAlign": "center",
         "width": "100%"
        }
       },
       "children": [
        {
         "attributes": {
          "class": "pb-text",
          "style": {
           "position": "absolute",
           "width": "100%"
          }
         },
         "children": [
          "Build finished in 0:00:01."
         ],
         "tagName": "div"
        },
        {
         "attributes": {
          "class": "pb-fill",
          "style": {
           "animation": "none",
           "backgroundColor": "#bdd2e6",
           "backgroundImage": "none",
           "backgroundSize": "100px 100%",
           "width": "100%"
          }
         },
         "children": [
          {
           "attributes": {
            "scoped": "scoped",
            "type": "text/css"
           },
           "children": [
            "\n                        @keyframes pb-fill-anim {\n                            0% { background-position: 0 0; }\n                            100% { background-position: 100px 0; }\n                        }}"
           ],
           "tagName": "style"
          },
          " "
         ],
         "tagName": "div"
        }
       ],
       "tagName": "div"
      },
      "text/html": [
       "<script>\n",
       "              (function () {\n",
       "                  var root = document.getElementById('456dfda8-7e13-48bc-913d-d89268a6738d');\n",
       "                  var text = root.getElementsByClassName('pb-text')[0];\n",
       "                  var fill = root.getElementsByClassName('pb-fill')[0];\n",
       "\n",
       "                  text.innerHTML = 'Build finished in 0:00:01.';\n",
       "                  \n",
       "            fill.style.width = '100%';\n",
       "            fill.style.animation = 'pb-fill-anim 2s linear infinite';\n",
       "            fill.style.backgroundSize = '100px 100%';\n",
       "            fill.style.backgroundImage = 'repeating-linear-gradient(' +\n",
       "                '90deg, #bdd2e6, #edf2f8 40%, #bdd2e6 80%, #bdd2e6)';\n",
       "        \n",
       "                  \n",
       "                fill.style.animation = 'none';\n",
       "                fill.style.backgroundImage = 'none';\n",
       "            \n",
       "              })();\n",
       "        </script>"
      ]
     },
     "metadata": {},
     "output_type": "display_data"
    },
    {
     "data": {
      "application/vdom.v1+json": {
       "attributes": {},
       "tagName": "div"
      },
      "text/html": [
       "\n",
       "                <script>\n",
       "                    if (Jupyter.version.split(\".\")[0] < 5) {\n",
       "                        var pb = document.getElementById(\"57fcad74-7ddb-4f29-8b98-c2723f2759b0\");\n",
       "                        var text = document.createTextNode(\n",
       "                            \"HMTL progress bar requires Jupyter Notebook >= \" +\n",
       "                            \"5.0 or Jupyter Lab. Alternatively, you can use \" +\n",
       "                            \"TerminalProgressBar().\");\n",
       "                        pb.parentNode.insertBefore(text, pb);\n",
       "                    }\n",
       "                </script>\n",
       "                <div id=\"57fcad74-7ddb-4f29-8b98-c2723f2759b0\" style=\"\n",
       "                    width: 100%;\n",
       "                    border: 1px solid #cfcfcf;\n",
       "                    border-radius: 4px;\n",
       "                    text-align: center;\n",
       "                    position: relative;\">\n",
       "                  <div class=\"pb-text\" style=\"\n",
       "                      position: absolute;\n",
       "                      width: 100%;\">\n",
       "                    0%\n",
       "                  </div>\n",
       "                  <div class=\"pb-fill\" style=\"\n",
       "                      background-color: #bdd2e6;\n",
       "                      width: 0%;\">\n",
       "                    <style type=\"text/css\" scoped=\"scoped\">\n",
       "                        @keyframes pb-fill-anim {\n",
       "                            0% { background-position: 0 0; }\n",
       "                            100% { background-position: 100px 0; }\n",
       "                        }\n",
       "                    </style>\n",
       "                    &nbsp;\n",
       "                  </div>\n",
       "                </div>"
      ],
      "text/plain": [
       "HtmlProgressBar cannot be displayed. Please use the TerminalProgressBar. It can be enabled with `nengo.rc['progress']['progress_bar'] = 'nengo.utils.progress.TerminalProgressBar'`."
      ]
     },
     "metadata": {},
     "output_type": "display_data"
    },
    {
     "data": {
      "application/vdom.v1+json": {
       "attributes": {
        "id": "1b9454ea-d52c-4bd0-91a2-39710efcde20",
        "style": {
         "border": "1px solid #cfcfcf",
         "borderRadius": "4px",
         "boxSizing": "border-box",
         "position": "relative",
         "textAlign": "center",
         "width": "100%"
        }
       },
       "children": [
        {
         "attributes": {
          "class": "pb-text",
          "style": {
           "position": "absolute",
           "width": "100%"
          }
         },
         "children": [
          "Simulation finished in 0:00:00."
         ],
         "tagName": "div"
        },
        {
         "attributes": {
          "class": "pb-fill",
          "style": {
           "animation": "none",
           "backgroundColor": "#bdd2e6",
           "backgroundImage": "none",
           "transition": "width 0.1s linear",
           "width": "100%"
          }
         },
         "children": [
          {
           "attributes": {
            "scoped": "scoped",
            "type": "text/css"
           },
           "children": [
            "\n                        @keyframes pb-fill-anim {\n                            0% { background-position: 0 0; }\n                            100% { background-position: 100px 0; }\n                        }}"
           ],
           "tagName": "style"
          },
          " "
         ],
         "tagName": "div"
        }
       ],
       "tagName": "div"
      },
      "text/html": [
       "<script>\n",
       "              (function () {\n",
       "                  var root = document.getElementById('57fcad74-7ddb-4f29-8b98-c2723f2759b0');\n",
       "                  var text = root.getElementsByClassName('pb-text')[0];\n",
       "                  var fill = root.getElementsByClassName('pb-fill')[0];\n",
       "\n",
       "                  text.innerHTML = 'Simulation finished in 0:00:00.';\n",
       "                  \n",
       "            if (100.0 > 0.) {\n",
       "                fill.style.transition = 'width 0.1s linear';\n",
       "            } else {\n",
       "                fill.style.transition = 'none';\n",
       "            }\n",
       "\n",
       "            fill.style.width = '100.0%';\n",
       "            fill.style.animation = 'none';\n",
       "            fill.style.backgroundImage = 'none'\n",
       "        \n",
       "                  \n",
       "                fill.style.animation = 'none';\n",
       "                fill.style.backgroundImage = 'none';\n",
       "            \n",
       "              })();\n",
       "        </script>"
      ]
     },
     "metadata": {},
     "output_type": "display_data"
    }
   ],
   "source": [
    "model = nengo.Network()\n",
    "with model:\n",
    "    stim = nengo.Node(np.sin(np.linspace(0, 2*np.pi, 50)))\n",
    "    \n",
    "    proj = Projection([2,100], [50], {0:1}, compression_type='max').make_node()\n",
    "    nengo.Connection(stim, proj, synapse=None)\n",
    "    p_stim = nengo.Probe(stim)\n",
    "    p_proj = nengo.Probe(proj)\n",
    "    \n",
    "sim = nengo.Simulator(model)\n",
    "with sim:\n",
    "    sim.run(0.001)"
   ]
  },
  {
   "cell_type": "code",
   "execution_count": 76,
   "metadata": {},
   "outputs": [
    {
     "data": {
      "text/plain": [
       "[<matplotlib.lines.Line2D at 0x24ddbf867f0>]"
      ]
     },
     "execution_count": 76,
     "metadata": {},
     "output_type": "execute_result"
    },
    {
     "data": {
      "image/png": "[encoded data removed]",
      "text/plain": [
       "<Figure size 432x288 with 1 Axes>"
      ]
     },
     "metadata": {
      "needs_background": "light"
     },
     "output_type": "display_data"
    }
   ],
   "source": [
    "plt.plot(sim.data[p_stim][-1], lw=3, ls='--')\n",
    "plt.plot(sim.data[p_proj][-1])\n"
   ]
  }
 ],
 "metadata": {
  "kernelspec": {
   "display_name": "Python 3",
   "language": "python",
   "name": "python3"
  },
  "language_info": {
   "codemirror_mode": {
    "name": "ipython",
    "version": 3
   },
   "file_extension": ".py",
   "mimetype": "text/x-python",
   "name": "python",
   "nbconvert_exporter": "python",
   "pygments_lexer": "ipython3",
   "version": "3.8.5"
  }
 },
 "nbformat": 4,
 "nbformat_minor": 4
}
