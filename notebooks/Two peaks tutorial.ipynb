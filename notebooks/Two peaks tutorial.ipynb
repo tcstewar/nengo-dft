{
 "cells": [
  {
   "cell_type": "markdown",
   "id": "7a3a7652",
   "metadata": {},
   "source": [
    "# A sample architecture - linking peaks in nengo\n",
    "\n",
    "In this tutorial we are recreating a small cedar example architecture in nengo. You can find the original cedar description of the example in cedar's source code here: https://github.com/cedar/cedar/blob/master/doc/pages/tutorials/DFT/DFT.dox"
   ]
  },
  {
   "cell_type": "code",
   "execution_count": 1,
   "id": "b6ed47ec",
   "metadata": {},
   "outputs": [],
   "source": [
    "import sys\n",
    "# sys.path.append(\"../../dft_in_nengo/\")\n",
    "from nengo_dft.cedar_modules import (\n",
    "    GaussInput,\n",
    "    Convolution,\n",
    "#     Resize,\n",
    "    Projection,\n",
    "    Boost,\n",
    "    make_gaussian,\n",
    "    GaussKernel,\n",
    ")\n",
    "# from cedar_utils.parse_cedar_objects import make_connection\n",
    "import nengo\n",
    "import nengo_dft\n",
    "import numpy as np\n",
    "import matplotlib.pyplot as plt\n",
    "from skimage.transform import resize\n",
    "import nengo_gui.jupyter\n",
    "\n",
    "%matplotlib inline"
   ]
  },
  {
   "cell_type": "code",
   "execution_count": 2,
   "id": "c6d6db21",
   "metadata": {},
   "outputs": [],
   "source": [
    "# need to add resize module\n",
    "class Resize(object):\n",
    "    def __init__(self, sizes_in, sizes_out, name=None):\n",
    "        self.sizes_out = sizes_out\n",
    "        self.sizes_in = sizes_in\n",
    "        self.name = name\n",
    "        \n",
    "        self.make_node()\n",
    "        \n",
    "    def update(self, inp):\n",
    "        if self.sizes_in != []:\n",
    "            out = inp.reshape(*self.sizes_in)\n",
    "        out = resize(inp, self.sizes_out)\n",
    "        \n",
    "        return out.flatten()\n",
    "    \n",
    "    def make_node(self):\n",
    "        if self.name is not None:\n",
    "            self.node = nengo.Node(lambda t, x: self.update(x), \n",
    "                          size_in=int(np.prod(self.sizes_in)) if self.sizes_in != [] else 1, \n",
    "                          size_out=int(np.prod(self.sizes_out)) if self.sizes_out != [] else 1,\n",
    "                          label=self.name)\n",
    "        else:\n",
    "            self.node = nengo.Node(lambda t, x: self.update(x), \n",
    "                          size_in=int(np.prod(self.sizes_in)) if self.sizes_in != [] else 1, \n",
    "                          size_out=int(np.prod(self.sizes_out)) if self.sizes_out != [] else 1)\n",
    "            \n",
    "# need to add kernel to convolution module?\n",
    "# or even need to reimplement convolution module completely? it says that only the \n",
    "# case for the spatial reasoning architecture is implemented"
   ]
  },
  {
   "cell_type": "code",
   "execution_count": 84,
   "id": "1ad5a55d",
   "metadata": {},
   "outputs": [
    {
     "data": {
      "text/plain": [
       "'\\n   # non neural field inputs of path two\\n    gauss_input2 = GaussInput(sizes=[80], centers=[31], sigmas=[12], a=1, name=\"gauss_2\")\\n    convolution2 = Convolution(sizes=[80], border_type=\"zero-filled borders\",\\n                               kernel=GaussKernel(c=1, sigma=3, normalize=True, dims=1), name=\"convolution_2\")\\n    resize2 = Resize(sizes_in=[80], sizes_out=[40], name=\"resize_2\")\\n    projection2 = Projection(sizes_out=[50,40], sizes_in=[40], dimension_mapping={0:1},\\n                             compression_type=\"sum\", name=\"projection_2\")\\n    \\n    neural_field2 = nengo_dft.DFT(shape=[80], h=-1, dt=dt, tau=tau)\\n    neural_field2.add_kernel(exc=3, inh=0)\\n    \\n    nengo.Connection(gauss_input2.node, neural_field2.s, synapse=0)\\n    nengo.Connection(neural_field2.s, convolution2.node, synapse=0)\\n    nengo.Connection(convolution2.node, resize2.node, synapse=0)\\n    nengo.Connection(resize2.node, projection2.node, synapse=0)\\n    \\n    \\n    # boost\\n    boost = Boost(strength=4.4, name=\"boost\")\\n    boost_projection = Projection(sizes_out=[50,40], sizes_in=[], dimension_mapping={}, compression_type=\"max\",\\n                                  name=\"Upscale projection\")\\n    \\n    neural_field3 = nengo_dft.DFT(shape=[50,40], h=-5)\\n    neural_field3.add_kernel(exc=3, inh=0)\\n    \\n    nengo.Connection(projection1.node, neural_field3.s, synapse=0)\\n    nengo.Connection(projection2.node, neural_field3.s, synapse=0)\\n    \\n    nengo.Connection(boost.node, boost_projection.node, synapse=0)\\n    nengo.Connection(boost_projection.node, neural_field3.s, synapse=0)\\n\\n    \\n    nf_result_probe = nengo.Probe(neural_field3.g.neurons)\\n    \\n    nf_2_probe = nengo.Probe(neural_field2.g.neurons)\\n    \\n    \\n    p_g1 = nengo.Probe(gauss_input1.node)\\n    p_g2 = nengo.Probe(gauss_input2.node)\\n'"
      ]
     },
     "execution_count": 84,
     "metadata": {},
     "output_type": "execute_result"
    }
   ],
   "source": [
    "model = nengo.Network()\n",
    "\n",
    "dt = 0.001\n",
    "tau = 0.002 / dt\n",
    "\n",
    "with model:\n",
    "    # non neural field inputs of path one\n",
    "    gauss_input1 = GaussInput(sizes=[100], centers=[24], sigmas=[3], a=1, name=\"gauss_1\")\n",
    "    convolution1 = Convolution(sizes=[100], border_type=\"zero-filled borders\", \n",
    "                               kernel=GaussKernel(c=1, sigma=3, normalize=True, dims=1), name=\"convolution_1\")\n",
    "    resize1 = Resize(sizes_in=[100], sizes_out=[50], name=\"resize_1\")\n",
    "    projection1 = Projection(sizes_out=[50,40], sizes_in=[50], dimension_mapping={0:0},\n",
    "                             compression_type=\"sum\", name=\"projection_1\")\n",
    "    \n",
    "    neural_field1 = nengo_dft.DFT(shape=[100], h=-1, dt=dt, tau=tau, global_inh=-0.01)\n",
    "    #print(neural_field1.dt)\n",
    "    neural_field1.add_kernel(exc=3, inh=0)\n",
    "    \n",
    "    # make connections\n",
    "    nengo.Connection(gauss_input1.node, neural_field1.s, synapse=None)\n",
    "#    nengo.Connection(neural_field1.s, convolution1.node, synapse=0)\n",
    "#    nengo.Connection(convolution1.node, resize1.node, synapse=0)\n",
    "#    nengo.Connection(resize1.node, projection1.node, synapse=0)\n",
    "\n",
    "    nf_1_probe = nengo.Probe(neural_field1.g.neurons)\n",
    "    \n",
    "\"\"\"\n",
    "   # non neural field inputs of path two\n",
    "    gauss_input2 = GaussInput(sizes=[80], centers=[31], sigmas=[12], a=1, name=\"gauss_2\")\n",
    "    convolution2 = Convolution(sizes=[80], border_type=\"zero-filled borders\",\n",
    "                               kernel=GaussKernel(c=1, sigma=3, normalize=True, dims=1), name=\"convolution_2\")\n",
    "    resize2 = Resize(sizes_in=[80], sizes_out=[40], name=\"resize_2\")\n",
    "    projection2 = Projection(sizes_out=[50,40], sizes_in=[40], dimension_mapping={0:1},\n",
    "                             compression_type=\"sum\", name=\"projection_2\")\n",
    "    \n",
    "    neural_field2 = nengo_dft.DFT(shape=[80], h=-1, dt=dt, tau=tau)\n",
    "    neural_field2.add_kernel(exc=3, inh=0)\n",
    "    \n",
    "    nengo.Connection(gauss_input2.node, neural_field2.s, synapse=0)\n",
    "    nengo.Connection(neural_field2.s, convolution2.node, synapse=0)\n",
    "    nengo.Connection(convolution2.node, resize2.node, synapse=0)\n",
    "    nengo.Connection(resize2.node, projection2.node, synapse=0)\n",
    "    \n",
    "    \n",
    "    # boost\n",
    "    boost = Boost(strength=4.4, name=\"boost\")\n",
    "    boost_projection = Projection(sizes_out=[50,40], sizes_in=[], dimension_mapping={}, compression_type=\"max\",\n",
    "                                  name=\"Upscale projection\")\n",
    "    \n",
    "    neural_field3 = nengo_dft.DFT(shape=[50,40], h=-5)\n",
    "    neural_field3.add_kernel(exc=3, inh=0)\n",
    "    \n",
    "    nengo.Connection(projection1.node, neural_field3.s, synapse=0)\n",
    "    nengo.Connection(projection2.node, neural_field3.s, synapse=0)\n",
    "    \n",
    "    nengo.Connection(boost.node, boost_projection.node, synapse=0)\n",
    "    nengo.Connection(boost_projection.node, neural_field3.s, synapse=0)\n",
    "\n",
    "    \n",
    "    nf_result_probe = nengo.Probe(neural_field3.g.neurons)\n",
    "    \n",
    "    nf_2_probe = nengo.Probe(neural_field2.g.neurons)\n",
    "    \n",
    "    \n",
    "    p_g1 = nengo.Probe(gauss_input1.node)\n",
    "    p_g2 = nengo.Probe(gauss_input2.node)\n",
    "\"\"\""
   ]
  },
  {
   "cell_type": "code",
   "execution_count": 85,
   "id": "1dbae0d4",
   "metadata": {},
   "outputs": [
    {
     "data": {
      "application/vdom.v1+json": {
       "attributes": {},
       "tagName": "div"
      },
      "text/html": [
       "\n",
       "                <script>\n",
       "                    if (Jupyter.version.split(\".\")[0] < 5) {\n",
       "                        var pb = document.getElementById(\"26d9290b-5770-420b-a113-af2169dc293f\");\n",
       "                        var text = document.createTextNode(\n",
       "                            \"HMTL progress bar requires Jupyter Notebook >= \" +\n",
       "                            \"5.0 or Jupyter Lab. Alternatively, you can use \" +\n",
       "                            \"TerminalProgressBar().\");\n",
       "                        pb.parentNode.insertBefore(text, pb);\n",
       "                    }\n",
       "                </script>\n",
       "                <div id=\"26d9290b-5770-420b-a113-af2169dc293f\" style=\"\n",
       "                    width: 100%;\n",
       "                    border: 1px solid #cfcfcf;\n",
       "                    border-radius: 4px;\n",
       "                    text-align: center;\n",
       "                    position: relative;\">\n",
       "                  <div class=\"pb-text\" style=\"\n",
       "                      position: absolute;\n",
       "                      width: 100%;\">\n",
       "                    0%\n",
       "                  </div>\n",
       "                  <div class=\"pb-fill\" style=\"\n",
       "                      background-color: #bdd2e6;\n",
       "                      width: 0%;\">\n",
       "                    <style type=\"text/css\" scoped=\"scoped\">\n",
       "                        @keyframes pb-fill-anim {\n",
       "                            0% { background-position: 0 0; }\n",
       "                            100% { background-position: 100px 0; }\n",
       "                        }\n",
       "                    </style>\n",
       "                    &nbsp;\n",
       "                  </div>\n",
       "                </div>"
      ],
      "text/plain": [
       "HtmlProgressBar cannot be displayed. Please use the TerminalProgressBar. It can be enabled with `nengo.rc['progress']['progress_bar'] = 'nengo.utils.progress.TerminalProgressBar'`."
      ]
     },
     "metadata": {},
     "output_type": "display_data"
    },
    {
     "data": {
      "application/vdom.v1+json": {
       "attributes": {
        "id": "73a8afc8-e75b-4278-8a4d-4d37284c2c30",
        "style": {
         "border": "1px solid #cfcfcf",
         "borderRadius": "4px",
         "boxSizing": "border-box",
         "position": "relative",
         "textAlign": "center",
         "width": "100%"
        }
       },
       "children": [
        {
         "attributes": {
          "class": "pb-text",
          "style": {
           "position": "absolute",
           "width": "100%"
          }
         },
         "children": [
          "Build finished in 0:00:01."
         ],
         "tagName": "div"
        },
        {
         "attributes": {
          "class": "pb-fill",
          "style": {
           "animation": "none",
           "backgroundColor": "#bdd2e6",
           "backgroundImage": "none",
           "backgroundSize": "100px 100%",
           "width": "100%"
          }
         },
         "children": [
          {
           "attributes": {
            "scoped": "scoped",
            "type": "text/css"
           },
           "children": [
            "\n                        @keyframes pb-fill-anim {\n                            0% { background-position: 0 0; }\n                            100% { background-position: 100px 0; }\n                        }}"
           ],
           "tagName": "style"
          },
          " "
         ],
         "tagName": "div"
        }
       ],
       "tagName": "div"
      },
      "text/html": [
       "<script>\n",
       "              (function () {\n",
       "                  var root = document.getElementById('26d9290b-5770-420b-a113-af2169dc293f');\n",
       "                  var text = root.getElementsByClassName('pb-text')[0];\n",
       "                  var fill = root.getElementsByClassName('pb-fill')[0];\n",
       "\n",
       "                  text.innerHTML = 'Build finished in 0:00:01.';\n",
       "                  \n",
       "            fill.style.width = '100%';\n",
       "            fill.style.animation = 'pb-fill-anim 2s linear infinite';\n",
       "            fill.style.backgroundSize = '100px 100%';\n",
       "            fill.style.backgroundImage = 'repeating-linear-gradient(' +\n",
       "                '90deg, #bdd2e6, #edf2f8 40%, #bdd2e6 80%, #bdd2e6)';\n",
       "        \n",
       "                  \n",
       "                fill.style.animation = 'none';\n",
       "                fill.style.backgroundImage = 'none';\n",
       "            \n",
       "              })();\n",
       "        </script>"
      ]
     },
     "metadata": {},
     "output_type": "display_data"
    },
    {
     "data": {
      "application/vdom.v1+json": {
       "attributes": {},
       "tagName": "div"
      },
      "text/html": [
       "\n",
       "                <script>\n",
       "                    if (Jupyter.version.split(\".\")[0] < 5) {\n",
       "                        var pb = document.getElementById(\"1464910f-a948-4e38-9cc4-5f3908dfa5a7\");\n",
       "                        var text = document.createTextNode(\n",
       "                            \"HMTL progress bar requires Jupyter Notebook >= \" +\n",
       "                            \"5.0 or Jupyter Lab. Alternatively, you can use \" +\n",
       "                            \"TerminalProgressBar().\");\n",
       "                        pb.parentNode.insertBefore(text, pb);\n",
       "                    }\n",
       "                </script>\n",
       "                <div id=\"1464910f-a948-4e38-9cc4-5f3908dfa5a7\" style=\"\n",
       "                    width: 100%;\n",
       "                    border: 1px solid #cfcfcf;\n",
       "                    border-radius: 4px;\n",
       "                    text-align: center;\n",
       "                    position: relative;\">\n",
       "                  <div class=\"pb-text\" style=\"\n",
       "                      position: absolute;\n",
       "                      width: 100%;\">\n",
       "                    0%\n",
       "                  </div>\n",
       "                  <div class=\"pb-fill\" style=\"\n",
       "                      background-color: #bdd2e6;\n",
       "                      width: 0%;\">\n",
       "                    <style type=\"text/css\" scoped=\"scoped\">\n",
       "                        @keyframes pb-fill-anim {\n",
       "                            0% { background-position: 0 0; }\n",
       "                            100% { background-position: 100px 0; }\n",
       "                        }\n",
       "                    </style>\n",
       "                    &nbsp;\n",
       "                  </div>\n",
       "                </div>"
      ],
      "text/plain": [
       "HtmlProgressBar cannot be displayed. Please use the TerminalProgressBar. It can be enabled with `nengo.rc['progress']['progress_bar'] = 'nengo.utils.progress.TerminalProgressBar'`."
      ]
     },
     "metadata": {},
     "output_type": "display_data"
    },
    {
     "data": {
      "application/vdom.v1+json": {
       "attributes": {
        "id": "6bb20ff9-dcfd-4c82-bc1b-c5d329c774f2",
        "style": {
         "border": "1px solid #cfcfcf",
         "borderRadius": "4px",
         "boxSizing": "border-box",
         "position": "relative",
         "textAlign": "center",
         "width": "100%"
        }
       },
       "children": [
        {
         "attributes": {
          "class": "pb-text",
          "style": {
           "position": "absolute",
           "width": "100%"
          }
         },
         "children": [
          "Simulation finished in 0:00:42."
         ],
         "tagName": "div"
        },
        {
         "attributes": {
          "class": "pb-fill",
          "style": {
           "animation": "none",
           "backgroundColor": "#bdd2e6",
           "backgroundImage": "none",
           "transition": "width 0.1s linear",
           "width": "100%"
          }
         },
         "children": [
          {
           "attributes": {
            "scoped": "scoped",
            "type": "text/css"
           },
           "children": [
            "\n                        @keyframes pb-fill-anim {\n                            0% { background-position: 0 0; }\n                            100% { background-position: 100px 0; }\n                        }}"
           ],
           "tagName": "style"
          },
          " "
         ],
         "tagName": "div"
        }
       ],
       "tagName": "div"
      },
      "text/html": [
       "<script>\n",
       "              (function () {\n",
       "                  var root = document.getElementById('1464910f-a948-4e38-9cc4-5f3908dfa5a7');\n",
       "                  var text = root.getElementsByClassName('pb-text')[0];\n",
       "                  var fill = root.getElementsByClassName('pb-fill')[0];\n",
       "\n",
       "                  text.innerHTML = 'Simulation finished in 0:00:42.';\n",
       "                  \n",
       "            if (100.0 > 0.) {\n",
       "                fill.style.transition = 'width 0.1s linear';\n",
       "            } else {\n",
       "                fill.style.transition = 'none';\n",
       "            }\n",
       "\n",
       "            fill.style.width = '100.0%';\n",
       "            fill.style.animation = 'none';\n",
       "            fill.style.backgroundImage = 'none'\n",
       "        \n",
       "                  \n",
       "                fill.style.animation = 'none';\n",
       "                fill.style.backgroundImage = 'none';\n",
       "            \n",
       "              })();\n",
       "        </script>"
      ]
     },
     "metadata": {},
     "output_type": "display_data"
    }
   ],
   "source": [
    "sim = nengo.Simulator(model, dt=dt)\n",
    "# 30.0 ran for 14 min\n",
    "with sim:\n",
    "    sim.run(20.0)"
   ]
  },
  {
   "cell_type": "code",
   "execution_count": 69,
   "id": "ace4876c",
   "metadata": {},
   "outputs": [
    {
     "data": {
      "text/html": [
       "\n",
       "            <script type=\"text/javascript\" id=\"19ce93a0-ecf8-45f7-88ce-76ff33114418\">\n",
       "            {\n",
       "                let req = new XMLHttpRequest();\n",
       "                req.addEventListener(\"load\", function() {\n",
       "                    if (this.status != 200 && this.response != 'OK') {\n",
       "                        let p = document.getElementById('19ce93a0-ecf8-45f7-88ce-76ff33114418').parentNode;\n",
       "                        p.innerHTML +=\n",
       "                            'The nengo_gui.jupyter notebook server ' +\n",
       "                            'extension was not loaded. Please activate it ' +\n",
       "                            'with the following command:' +\n",
       "                            '<pre>jupyter serverextension enable ' +\n",
       "                            'nengo_gui.jupyter</pre>';\n",
       "                        p.classList.add('output_stderr');\n",
       "                    }\n",
       "                });\n",
       "                req.open('GET', './nengo/check', true);\n",
       "                req.send();\n",
       "            }\n",
       "            </script>\n",
       "        "
      ],
      "text/plain": [
       "<IPython.core.display.HTML object>"
      ]
     },
     "metadata": {},
     "output_type": "display_data"
    },
    {
     "data": {
      "application/vdom.v1+json": {
       "attributes": {
        "id": "75bafd28-d5b9-4e24-b103-dfb999ba6b2e"
       },
       "children": [
        {
         "attributes": {
          "allowfullscreen": "allowfullscreen",
          "class": "cell",
          "frameborder": "0",
          "height": "600",
          "src": "./nengo/50573/?token=03adf640d9793a76cede0e4acd6c253e3dc5f9c47d406c5b",
          "style": {
           "border": "1px solid #eee",
           "boxSizing": "border-box"
          },
          "width": "100%"
         },
         "tagName": "iframe"
        }
       ],
       "tagName": "div"
      },
      "text/html": [
       "\n",
       "                <div id=\"61a40f1c-a94d-40d0-bdba-36ac78a27fca\">\n",
       "                    <iframe\n",
       "                        src=\"./nengo/50573/?token=03adf640d9793a76cede0e4acd6c253e3dc5f9c47d406c5b\"\n",
       "                        width=\"100%\"\n",
       "                        height=\"600\"\n",
       "                        frameborder=\"0\"\n",
       "                        class=\"cell\"\n",
       "                        style=\"border: 1px solid #eee; box-sizing: border-box;\"\n",
       "                        allowfullscreen></iframe>\n",
       "                </div>\n",
       "            "
      ]
     },
     "metadata": {},
     "output_type": "display_data"
    }
   ],
   "source": [
    "nengo_gui.jupyter.InlineGUI(model)"
   ]
  },
  {
   "cell_type": "code",
   "execution_count": 35,
   "id": "e2761ac8",
   "metadata": {},
   "outputs": [
    {
     "name": "stdout",
     "output_type": "stream",
     "text": [
      "(30000, 2000)\n",
      "(30000, 100)\n",
      "(30000, 80)\n"
     ]
    }
   ],
   "source": [
    "print(sim.data[nf_result_probe].shape)\n",
    "print(sim.data[nf_1_probe].shape)\n",
    "print(sim.data[nf_2_probe].shape)"
   ]
  },
  {
   "cell_type": "code",
   "execution_count": 54,
   "id": "187f88c6",
   "metadata": {},
   "outputs": [
    {
     "data": {
      "image/png": "[encoded data removed]",
      "text/plain": [
       "<Figure size 1008x288 with 1 Axes>"
      ]
     },
     "metadata": {
      "needs_background": "light"
     },
     "output_type": "display_data"
    }
   ],
   "source": [
    "plt.figure(figsize=(14,4))\n",
    "plt.imshow(sim.data[p_g1][::100].T, cmap=\"jet\")\n",
    "plt.title(\"First gaussian input\")\n",
    "plt.show()"
   ]
  },
  {
   "cell_type": "code",
   "execution_count": 47,
   "id": "38b45c38",
   "metadata": {},
   "outputs": [
    {
     "data": {
      "image/png": "[encoded data removed]",
      "text/plain": [
       "<Figure size 1008x288 with 1 Axes>"
      ]
     },
     "metadata": {
      "needs_background": "light"
     },
     "output_type": "display_data"
    }
   ],
   "source": [
    "plt.figure(figsize=(14,4))\n",
    "plt.imshow(sim.data[p_g2][::100].T, cmap=\"jet\")\n",
    "plt.title(\"Second gaussian input\")\n",
    "plt.show()"
   ]
  },
  {
   "cell_type": "code",
   "execution_count": 86,
   "id": "06879337",
   "metadata": {},
   "outputs": [
    {
     "data": {
      "image/png": "[encoded data removed]",
      "text/plain": [
       "<Figure size 1008x288 with 1 Axes>"
      ]
     },
     "metadata": {
      "needs_background": "light"
     },
     "output_type": "display_data"
    }
   ],
   "source": [
    "plt.figure(figsize=(14,4))\n",
    "plt.imshow(sim.data[nf_1_probe][::100].T, cmap=\"jet\", vmin=0, vmax=1, aspect=\"auto\")\n",
    "plt.title(\"Neural Field receiving input from first gaussian input\")\n",
    "plt.show()"
   ]
  },
  {
   "cell_type": "code",
   "execution_count": 61,
   "id": "649a9b6a",
   "metadata": {},
   "outputs": [
    {
     "data": {
      "image/png": "[encoded data removed]",
      "text/plain": [
       "<Figure size 1008x288 with 1 Axes>"
      ]
     },
     "metadata": {
      "needs_background": "light"
     },
     "output_type": "display_data"
    }
   ],
   "source": [
    "plt.figure(figsize=(14,4))\n",
    "plt.imshow(sim.data[nf_2_probe][::100].T, cmap=\"jet\", vmin=0, vmax=1)\n",
    "plt.title(\"Neural Field receiving input from second gaussian input\")\n",
    "plt.show()"
   ]
  },
  {
   "cell_type": "code",
   "execution_count": 68,
   "id": "e50e3a79",
   "metadata": {},
   "outputs": [
    {
     "data": {
      "image/png": "[encoded data removed]",
      "text/plain": [
       "<Figure size 432x288 with 2 Axes>"
      ]
     },
     "metadata": {
      "needs_background": "light"
     },
     "output_type": "display_data"
    }
   ],
   "source": [
    "plt.imshow(sim.data[nf_result_probe][-1].reshape(50,40), cmap=\"jet\")#, vmin=0, vmax=1)\n",
    "plt.title(\"2D Neural Field\")\n",
    "plt.colorbar()\n",
    "plt.show()"
   ]
  },
  {
   "cell_type": "code",
   "execution_count": null,
   "id": "84cbb8bd",
   "metadata": {},
   "outputs": [],
   "source": []
  }
 ],
 "metadata": {
  "kernelspec": {
   "display_name": "Python 3 (ipykernel)",
   "language": "python",
   "name": "python3"
  },
  "language_info": {
   "codemirror_mode": {
    "name": "ipython",
    "version": 3
   },
   "file_extension": ".py",
   "mimetype": "text/x-python",
   "name": "python",
   "nbconvert_exporter": "python",
   "pygments_lexer": "ipython3",
   "version": "3.9.6"
  }
 },
 "nbformat": 4,
 "nbformat_minor": 5
}
