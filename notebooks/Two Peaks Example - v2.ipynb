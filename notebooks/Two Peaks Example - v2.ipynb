{
 "cells": [
  {
   "cell_type": "code",
   "execution_count": 1,
   "metadata": {},
   "outputs": [],
   "source": [
    "%matplotlib inline\n",
    "import matplotlib.pyplot as plt\n",
    "import nengo\n",
    "import numpy as np\n",
    "import nengo_dft\n",
    "import cedar_modules"
   ]
  },
  {
   "cell_type": "code",
   "execution_count": 2,
   "metadata": {},
   "outputs": [],
   "source": [
    "class AbsSigmoid(nengo.neurons.NeuronType):\n",
    "    def __init__(self, initial_state=None):\n",
    "        super().__init__(initial_state)\n",
    "\n",
    "    def step(self, dt, J, output):\n",
    "        output[...] = 0.5 * (1 + (J) / (1 + np.abs(J)))"
   ]
  },
  {
   "cell_type": "code",
   "execution_count": 3,
   "metadata": {},
   "outputs": [],
   "source": [
    "import nengo_ocl\n",
    "from nengo_ocl.utils import as_ascii\n",
    "from mako.template import Template   \n",
    "from nengo_ocl.clra_nonlinearities import _plan_template\n",
    "\n",
    "def plan_abs_sigmoid(queue, J, outR, **kwargs):\n",
    "    inputs = dict(J=J)\n",
    "    outputs = dict(outR=outR)\n",
    "    parameters = dict()\n",
    "    textconf = dict(type=J.ctype)\n",
    "\n",
    "    decs = \"\"\"\n",
    "        \"\"\"\n",
    "    text = \"\"\"\n",
    "        outR = 0.5*(1+J/(1+fabs(J)));\n",
    "        \"\"\"\n",
    "    decs = as_ascii(Template(decs, output_encoding='ascii').render(**textconf))\n",
    "    text = as_ascii(Template(text, output_encoding='ascii').render(**textconf))\n",
    "    cl_name = \"cl_abs_sigmoid\"\n",
    "    return _plan_template(\n",
    "        queue, cl_name, text, declares=decs,\n",
    "        inputs=inputs, outputs=outputs, parameters=parameters, **kwargs)\n",
    "\n",
    "class OpenCLSimulator(nengo_ocl.Simulator):\n",
    "    def _plan_AbsSigmoid(self, ops):\n",
    "        J = self.all_data[[self.sidx[op.J] for op in ops]]\n",
    "        R = self.all_data[[self.sidx[op.output] for op in ops]]\n",
    "        return [plan_abs_sigmoid(self.queue, J, R)]\n"
   ]
  },
  {
   "cell_type": "code",
   "execution_count": 19,
   "metadata": {},
   "outputs": [
    {
     "data": {
      "application/vdom.v1+json": {
       "attributes": {},
       "tagName": "div"
      },
      "text/html": [
       "\n",
       "                <script>\n",
       "                    if (Jupyter.version.split(\".\")[0] < 5) {\n",
       "                        var pb = document.getElementById(\"79efc19f-1658-4fa2-ac3a-d0cbbfd97a30\");\n",
       "                        var text = document.createTextNode(\n",
       "                            \"HMTL progress bar requires Jupyter Notebook >= \" +\n",
       "                            \"5.0 or Jupyter Lab. Alternatively, you can use \" +\n",
       "                            \"TerminalProgressBar().\");\n",
       "                        pb.parentNode.insertBefore(text, pb);\n",
       "                    }\n",
       "                </script>\n",
       "                <div id=\"79efc19f-1658-4fa2-ac3a-d0cbbfd97a30\" style=\"\n",
       "                    width: 100%;\n",
       "                    border: 1px solid #cfcfcf;\n",
       "                    border-radius: 4px;\n",
       "                    text-align: center;\n",
       "                    position: relative;\">\n",
       "                  <div class=\"pb-text\" style=\"\n",
       "                      position: absolute;\n",
       "                      width: 100%;\">\n",
       "                    0%\n",
       "                  </div>\n",
       "                  <div class=\"pb-fill\" style=\"\n",
       "                      background-color: #bdd2e6;\n",
       "                      width: 0%;\">\n",
       "                    <style type=\"text/css\" scoped=\"scoped\">\n",
       "                        @keyframes pb-fill-anim {\n",
       "                            0% { background-position: 0 0; }\n",
       "                            100% { background-position: 100px 0; }\n",
       "                        }\n",
       "                    </style>\n",
       "                    &nbsp;\n",
       "                  </div>\n",
       "                </div>"
      ],
      "text/plain": [
       "HtmlProgressBar cannot be displayed. Please use the TerminalProgressBar. It can be enabled with `nengo.rc['progress']['progress_bar'] = 'nengo.utils.progress.TerminalProgressBar'`."
      ]
     },
     "metadata": {},
     "output_type": "display_data"
    },
    {
     "data": {
      "application/vdom.v1+json": {
       "attributes": {
        "id": "a0f0b225-12f5-4580-b4fe-e03467b6fc8d",
        "style": {
         "border": "1px solid #cfcfcf",
         "borderRadius": "4px",
         "boxSizing": "border-box",
         "position": "relative",
         "textAlign": "center",
         "width": "100%"
        }
       },
       "children": [
        {
         "attributes": {
          "class": "pb-text",
          "style": {
           "position": "absolute",
           "width": "100%"
          }
         },
         "children": [
          "Simulation finished in 0:00:02."
         ],
         "tagName": "div"
        },
        {
         "attributes": {
          "class": "pb-fill",
          "style": {
           "animation": "none",
           "backgroundColor": "#bdd2e6",
           "backgroundImage": "none",
           "transition": "width 0.1s linear",
           "width": "100%"
          }
         },
         "children": [
          {
           "attributes": {
            "scoped": "scoped",
            "type": "text/css"
           },
           "children": [
            "\n                        @keyframes pb-fill-anim {\n                            0% { background-position: 0 0; }\n                            100% { background-position: 100px 0; }\n                        }}"
           ],
           "tagName": "style"
          },
          " "
         ],
         "tagName": "div"
        }
       ],
       "tagName": "div"
      },
      "text/html": [
       "<script>\n",
       "              (function () {\n",
       "                  var root = document.getElementById('79efc19f-1658-4fa2-ac3a-d0cbbfd97a30');\n",
       "                  var text = root.getElementsByClassName('pb-text')[0];\n",
       "                  var fill = root.getElementsByClassName('pb-fill')[0];\n",
       "\n",
       "                  text.innerHTML = 'Simulation finished in 0:00:02.';\n",
       "                  \n",
       "            if (100.0 > 0.) {\n",
       "                fill.style.transition = 'width 0.1s linear';\n",
       "            } else {\n",
       "                fill.style.transition = 'none';\n",
       "            }\n",
       "\n",
       "            fill.style.width = '100.0%';\n",
       "            fill.style.animation = 'none';\n",
       "            fill.style.backgroundImage = 'none'\n",
       "        \n",
       "                  \n",
       "                fill.style.animation = 'none';\n",
       "                fill.style.backgroundImage = 'none';\n",
       "            \n",
       "              })();\n",
       "        </script>"
      ]
     },
     "metadata": {},
     "output_type": "display_data"
    }
   ],
   "source": [
    "dt = 0.02\n",
    "step_size = 0.02\n",
    "\n",
    "model = nengo.Network()\n",
    "with model:\n",
    "    gauss_input = cedar_modules.GaussInput(sizes=[100], centers=[24], a=1, sigmas=[3], normalize=False).make_node()\n",
    "    gauss_input_2 = cedar_modules.GaussInput(sizes=[80], centers=[31], a=1, sigmas=[12], normalize=False).make_node()\n",
    "    \n",
    "    neural_field = nengo_dft.DFT(shape=[100], h=-1, c_noise=0.1, beta=100, global_inh=0.01, dt=dt, \n",
    "                                 tau=(100)*step_size, neuron_type=AbsSigmoid())\n",
    "    neural_field.add_single_kernel(amplitude=1, sigma=3.0, limit=5)\n",
    "\n",
    "    neural_field_2 = nengo_dft.DFT(shape=[50, 40], h=-5, c_noise=0.1, beta=100, global_inh=0.01, dt=dt, \n",
    "                                 tau=(100)*step_size, neuron_type=AbsSigmoid())\n",
    "    neural_field_2.add_single_kernel(amplitude=1, sigma=3, limit=5)    \n",
    "    \n",
    "    neural_field_3 = nengo_dft.DFT(shape=[80], h=-1, c_noise=0.1, beta=100, global_inh=0.01, dt=dt, \n",
    "                                 tau=(100)*step_size, neuron_type=AbsSigmoid())\n",
    "    neural_field_3.add_single_kernel(amplitude=1, sigma=3, limit=5)\n",
    "    \n",
    "    \n",
    "    convolution = cedar_modules.Convolution(input_shape=[100], amplitude=1, sigma=3, limit=5)\n",
    "    convolution_2 = cedar_modules.Convolution(input_shape=[80], amplitude=1, sigma=3, limit=5)\n",
    "    \n",
    "    projection = cedar_modules.Projection([50, 40], [100], dimension_mapping={0:0}).make_node()\n",
    "    projection_2 = cedar_modules.Projection([50, 40], [80], dimension_mapping={0:1}).make_node()\n",
    "    \n",
    "\n",
    "    nengo.Connection(gauss_input, neural_field.s, synapse=None)\n",
    "    nengo.Connection(gauss_input_2, neural_field_3.s, synapse=None) \n",
    "    \n",
    "    nengo.Connection(neural_field.g.neurons, convolution.input, synapse=None)\n",
    "    nengo.Connection(neural_field_3.g.neurons, convolution_2.input, synapse=None)\n",
    "    \n",
    "    nengo.Connection(convolution.output, projection, synapse=None)\n",
    "    nengo.Connection(convolution_2.output, projection_2, synapse=None)\n",
    "    \n",
    "    nengo.Connection(projection, neural_field_2.s, synapse=None)\n",
    "    nengo.Connection(projection_2, neural_field_2.s, synapse=None)\n",
    "    \n",
    "    boost = nengo.Node(4.4)\n",
    "    nengo.Connection(boost, neural_field_2.s, synapse=None, transform=np.ones((neural_field_2.s.size_in, 1)))\n",
    "    \n",
    "    p_dnf = nengo.Probe(neural_field.g.neurons)\n",
    "    p_dnf_2 = nengo.Probe(neural_field_2.g.neurons)\n",
    "    p_dnf_3 = nengo.Probe(neural_field_3.g.neurons)\n",
    "        \n",
    "sim = OpenCLSimulator(model, dt=dt)\n",
    "#sim = nengo.Simulator(model, dt=dt)\n",
    "with sim:\n",
    "    sim.run(30)"
   ]
  },
  {
   "cell_type": "code",
   "execution_count": null,
   "metadata": {},
   "outputs": [],
   "source": []
  },
  {
   "cell_type": "code",
   "execution_count": 20,
   "metadata": {},
   "outputs": [
    {
     "data": {
      "text/plain": [
       "<matplotlib.colorbar.Colorbar at 0x1d02e458dc0>"
      ]
     },
     "execution_count": 20,
     "metadata": {},
     "output_type": "execute_result"
    },
    {
     "data": {
      "image/png": "[encoded data removed]",
      "text/plain": [
       "<Figure size 432x288 with 2 Axes>"
      ]
     },
     "metadata": {
      "needs_background": "light"
     },
     "output_type": "display_data"
    }
   ],
   "source": [
    "plt.imshow(sim.data[p_dnf], aspect='auto', interpolation='nearest')\n",
    "plt.colorbar()"
   ]
  },
  {
   "cell_type": "code",
   "execution_count": 21,
   "metadata": {},
   "outputs": [
    {
     "data": {
      "text/plain": [
       "<matplotlib.colorbar.Colorbar at 0x1d02e3197c0>"
      ]
     },
     "execution_count": 21,
     "metadata": {},
     "output_type": "execute_result"
    },
    {
     "data": {
      "image/png": "[encoded data removed]",
      "text/plain": [
       "<Figure size 432x288 with 2 Axes>"
      ]
     },
     "metadata": {
      "needs_background": "light"
     },
     "output_type": "display_data"
    }
   ],
   "source": [
    "plt.imshow(sim.data[p_dnf_2][-1].reshape(50,40))\n",
    "plt.colorbar()"
   ]
  },
  {
   "cell_type": "code",
   "execution_count": null,
   "metadata": {},
   "outputs": [],
   "source": []
  },
  {
   "cell_type": "code",
   "execution_count": 7,
   "metadata": {},
   "outputs": [
    {
     "data": {
      "text/html": [
       "\n",
       "            <script type=\"text/javascript\" id=\"0a6c1888-64e9-49bb-b24c-9a8d40db97a5\">\n",
       "            {\n",
       "                let req = new XMLHttpRequest();\n",
       "                req.addEventListener(\"load\", function() {\n",
       "                    if (this.status != 200 && this.response != 'OK') {\n",
       "                        let p = document.getElementById('0a6c1888-64e9-49bb-b24c-9a8d40db97a5').parentNode;\n",
       "                        p.innerHTML +=\n",
       "                            'The nengo_gui.jupyter notebook server ' +\n",
       "                            'extension was not loaded. Please activate it ' +\n",
       "                            'with the following command:' +\n",
       "                            '<pre>jupyter serverextension enable ' +\n",
       "                            'nengo_gui.jupyter</pre>';\n",
       "                        p.classList.add('output_stderr');\n",
       "                    }\n",
       "                });\n",
       "                req.open('GET', './nengo/check', true);\n",
       "                req.send();\n",
       "            }\n",
       "            </script>\n",
       "        "
      ],
      "text/plain": [
       "<IPython.core.display.HTML object>"
      ]
     },
     "metadata": {},
     "output_type": "display_data"
    },
    {
     "data": {
      "application/vdom.v1+json": {
       "attributes": {
        "id": "21503ded-83c2-45d0-b81e-950f86de3cef"
       },
       "children": [
        {
         "attributes": {
          "allowfullscreen": "allowfullscreen",
          "class": "cell",
          "frameborder": "0",
          "height": "600",
          "src": "./nengo/60238/?token=31c4411655b3067d759d53becc33f0e82b0ba16b4001483f",
          "style": {
           "border": "1px solid #eee",
           "boxSizing": "border-box"
          },
          "width": "100%"
         },
         "tagName": "iframe"
        }
       ],
       "tagName": "div"
      },
      "text/html": [
       "\n",
       "                <div id=\"689fe903-7452-4cdd-9467-33a46cdc84c8\">\n",
       "                    <iframe\n",
       "                        src=\"./nengo/60238/?token=31c4411655b3067d759d53becc33f0e82b0ba16b4001483f\"\n",
       "                        width=\"100%\"\n",
       "                        height=\"600\"\n",
       "                        frameborder=\"0\"\n",
       "                        class=\"cell\"\n",
       "                        style=\"border: 1px solid #eee; box-sizing: border-box;\"\n",
       "                        allowfullscreen></iframe>\n",
       "                </div>\n",
       "            "
      ]
     },
     "metadata": {},
     "output_type": "display_data"
    }
   ],
   "source": [
    "import nengo_gui.jupyter\n",
    "nengo_gui.jupyter.InlineGUI(model)"
   ]
  },
  {
   "cell_type": "code",
   "execution_count": null,
   "metadata": {},
   "outputs": [],
   "source": []
  }
 ],
 "metadata": {
  "kernelspec": {
   "display_name": "Python 3",
   "language": "python",
   "name": "python3"
  },
  "language_info": {
   "codemirror_mode": {
    "name": "ipython",
    "version": 3
   },
   "file_extension": ".py",
   "mimetype": "text/x-python",
   "name": "python",
   "nbconvert_exporter": "python",
   "pygments_lexer": "ipython3",
   "version": "3.8.5"
  }
 },
 "nbformat": 4,
 "nbformat_minor": 4
}
